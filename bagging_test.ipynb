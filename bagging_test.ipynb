{
 "cells": [
  {
   "cell_type": "code",
   "execution_count": 1,
   "metadata": {},
   "outputs": [],
   "source": [
    "# 設定超參數HyperParameters \n",
    "batch_size =  64\n",
    "epochs = 30\n",
    "image_size = 128\n",
    "lr=0.01"
   ]
  },
  {
   "cell_type": "markdown",
   "metadata": {},
   "source": [
    "## 一、載入相關套件"
   ]
  },
  {
   "cell_type": "code",
   "execution_count": 2,
   "metadata": {},
   "outputs": [],
   "source": [
    "import os\n",
    "import cv2\n",
    "import csv\n",
    "import random\n",
    "import time\n",
    "import numpy as np\n",
    "import pandas as pd\n",
    "import matplotlib.image as mpimg # mpimg 用於讀取圖片\n",
    "import matplotlib.pyplot as plt # plt 用於顯示圖片\n",
    "import seaborn as sns"
   ]
  },
  {
   "cell_type": "code",
   "execution_count": 3,
   "metadata": {},
   "outputs": [],
   "source": [
    "import tensorflow as tf\n",
    "\n",
    "from tensorflow.keras.applications import InceptionResNetV2\n",
    "from tensorflow.keras.preprocessing import image\n",
    "from tensorflow.keras.applications.inception_resnet_v2 import preprocess_input\n",
    "from tensorflow.keras import Model\n",
    "from tensorflow.keras.preprocessing.image import ImageDataGenerator, array_to_img, img_to_array, load_img\n",
    "from tensorflow.keras.utils import to_categorical\n",
    "from tensorflow.keras import utils as np_utils\n",
    "from tensorflow import keras\n",
    "from tensorflow.keras import optimizers\n",
    "from tensorflow.keras.layers import Input, Dropout, Flatten, Convolution2D, MaxPooling2D, ZeroPadding2D, Dense, Activation, Conv2DTranspose"
   ]
  },
  {
   "cell_type": "code",
   "execution_count": 4,
   "metadata": {},
   "outputs": [
    {
     "name": "stdout",
     "output_type": "stream",
     "text": [
      "1 Physical GPUs, 1 Logical GPUs\n"
     ]
    }
   ],
   "source": [
    "gpus = tf.config.experimental.list_physical_devices('GPU')\n",
    "if gpus:\n",
    "    try:\n",
    "        # Currently, memory growth needs to be the same across GPUs\n",
    "        for gpu in gpus:\n",
    "            tf.config.experimental.set_memory_growth(gpu, True)\n",
    "        tf.config.experimental.set_visible_devices(gpus[0], 'GPU')\n",
    "        logical_gpus = tf.config.experimental.list_logical_devices('GPU')\n",
    "        print(len(gpus), \"Physical GPUs,\", len(logical_gpus), \"Logical GPUs\")\n",
    "    except RuntimeError as e:\n",
    "        # Memory growth must be set before GPUs have been initialized\n",
    "        print(e)"
   ]
  },
  {
   "cell_type": "code",
   "execution_count": 5,
   "metadata": {},
   "outputs": [
    {
     "name": "stdout",
     "output_type": "stream",
     "text": [
      "Start Time 2020-06-08 21:31:35.454111+08:00\n"
     ]
    }
   ],
   "source": [
    "# Print Start time\n",
    "from datetime import datetime, timezone\n",
    "import pytz\n",
    "\n",
    "tpe = pytz.timezone('Asia/Taipei')\n",
    "utc_start = datetime.now()\n",
    "print(\"Start Time\", tpe.fromutc(utc_start))"
   ]
  },
  {
   "cell_type": "markdown",
   "metadata": {},
   "source": [
    "## 測試集預測準確度"
   ]
  },
  {
   "cell_type": "code",
   "execution_count": 6,
   "metadata": {},
   "outputs": [],
   "source": [
    "csvfile_test = open('dev.csv')\n",
    "reader_test = csv.reader(csvfile_test)"
   ]
  },
  {
   "cell_type": "code",
   "execution_count": 7,
   "metadata": {},
   "outputs": [],
   "source": [
    "# 讀取csv標籤\n",
    "labels = []\n",
    "for line in reader_test:\n",
    "    tmp = [line[0],line[1]]\n",
    "    # print tmp\n",
    "    labels.append(tmp)\n",
    "csvfile_test.close() "
   ]
  },
  {
   "cell_type": "code",
   "execution_count": 8,
   "metadata": {},
   "outputs": [
    {
     "name": "stdout",
     "output_type": "stream",
     "text": [
      "芒果圖片數量:  800\n"
     ]
    }
   ],
   "source": [
    "labels = labels[1:]  # remove the first row\n",
    "print(\"芒果圖片數量: \",len(labels))"
   ]
  },
  {
   "cell_type": "code",
   "execution_count": 9,
   "metadata": {},
   "outputs": [],
   "source": [
    "# 轉換圖片的標籤\n",
    "for i in range(len(labels)):\n",
    "    labels[i][1] = labels[i][1].replace(\"A\",\"0\")\n",
    "    labels[i][1] = labels[i][1].replace(\"B\",\"1\")\n",
    "    labels[i][1] = labels[i][1].replace(\"C\",\"2\")"
   ]
  },
  {
   "cell_type": "code",
   "execution_count": 10,
   "metadata": {},
   "outputs": [],
   "source": [
    "x_test = []\n",
    "y_test = []\n",
    "\n",
    "for i in range(len(labels)):\n",
    "    img = cv2.imread(\"C1-P1_Dev/\" + labels[i][0] )\n",
    "    res = cv2.resize(img,(image_size,image_size),interpolation=cv2.INTER_LINEAR)\n",
    "    res = img_to_array(res)\n",
    "    x_test.append(res)    \n",
    "    y_test.append(labels[i][1])"
   ]
  },
  {
   "cell_type": "code",
   "execution_count": 11,
   "metadata": {},
   "outputs": [],
   "source": [
    "y_test_org = y_test\n",
    "\n",
    "# 轉換至array的格式\n",
    "x_test = np.array(x_test)\n",
    "y_test = np.array(y_test)"
   ]
  },
  {
   "cell_type": "code",
   "execution_count": 12,
   "metadata": {},
   "outputs": [],
   "source": [
    "# 轉換至float的格式\n",
    "for i in range(len(x_test)):\n",
    "    x_test[i] = x_test[i].astype('float32')\n",
    "# x_test = x_test/255"
   ]
  },
  {
   "cell_type": "code",
   "execution_count": 13,
   "metadata": {},
   "outputs": [],
   "source": [
    "# 標籤進行one-hotencoding\n",
    "y_test = np_utils.to_categorical(y_test)"
   ]
  },
  {
   "cell_type": "code",
   "execution_count": null,
   "metadata": {},
   "outputs": [],
   "source": [
    "# 測試集標籤預測\n",
    "model = []\n",
    "y_pred = []\n",
    "\n",
    "model_count = 4\n",
    "'''\n",
    "model1 = tf.keras.models.load_model(\"1.h5\")\n",
    "print(\"done loading 1\")\n",
    "model2 = tf.keras.models.load_model(\"2.h5\")\n",
    "print(\"done loading 2\")\n",
    "model3 = tf.keras.models.load_model(\"3.h5\")\n",
    "print(\"done loading 3\")\n",
    "model4 = tf.keras.models.load_model(\"4.h5\")\n",
    "print(\"done loading 4\")\n",
    "y_pred1 = model1.predict(x_test)\n",
    "y_pred2 = model2.predict(x_test)\n",
    "y_pred3 = model3.predict(x_test)\n",
    "y_pred4 = model4.predict(x_test)\n",
    "#y_pred5 = model5.predict(x_test)\n",
    "'''\n",
    "for i in range(1,model_count+1):\n",
    "    model_temp=tf.keras.models.load_model(str(i)+\".h5\")\n",
    "    model.append(model_temp)\n",
    "for i in range(0,model_count):\n",
    "    pred_temp = model[i].predict(x_test)\n",
    "    y_pred.append(pred_temp)"
   ]
  },
  {
   "cell_type": "code",
   "execution_count": null,
   "metadata": {},
   "outputs": [],
   "source": [
    "# 模型預測後的標籤\n",
    "'''\n",
    "predict_label1 = np.argmax(y_pred1,axis=1)\n",
    "predict_label2 = np.argmax(y_pred2,axis=1)\n",
    "predict_label3 = np.argmax(y_pred3,axis=1)\n",
    "predict_label4 = np.argmax(y_pred4,axis=1)\n",
    "#predict_label5 = np.argmax(y_pred5,axis=1)\n",
    "#predict_label = np.argmax(y_pred,axis=1)\n",
    "predict_label = np.round((predict_label1+predict_label2+predict_label3+predict_label4)/4,0)\n",
    "print(predict_label)\n",
    "# print(len(predict_label))\n",
    "'''\n",
    "predict_labels = []\n",
    "for i in range(0,model_count):\n",
    "    pred_label_temp=np.argmax(y_pred[i],axis=1)\n",
    "    predict_labels.append(pred_label_temp)\n",
    "predict_label = predict_labels[0]\n",
    "for i in range(1,model_count):\n",
    "    predict_label+=predict_labels[i]\n",
    "predict_label = np.round(predict_label/4,0)"
   ]
  },
  {
   "cell_type": "code",
   "execution_count": null,
   "metadata": {},
   "outputs": [],
   "source": [
    "# 模型原標籤\n",
    "true_label = y_test_org\n",
    "true_label = np.array(true_label)\n",
    "print(true_label)\n",
    "# print(len(true_label))"
   ]
  },
  {
   "cell_type": "code",
   "execution_count": null,
   "metadata": {},
   "outputs": [],
   "source": [
    "pd.crosstab(true_label,predict_label,rownames=['實際值'],colnames=['預測值'])"
   ]
  },
  {
   "cell_type": "code",
   "execution_count": null,
   "metadata": {},
   "outputs": [],
   "source": [
    "# 整體準確度\n",
    "count = 0\n",
    "for i in range(len(predict_label)):\n",
    "    if(int(predict_label[i]) == int(true_label[i])): #argmax函数找到最大值的索引，即为其类别\n",
    "        count += 1\n",
    "score = count/len(predict_label)\n",
    "print('正确率为:%.2f%s' % (score*100,'%'))"
   ]
  },
  {
   "cell_type": "code",
   "execution_count": null,
   "metadata": {},
   "outputs": [],
   "source": [
    "# 儲存模型相關參數\n",
    "#model.save('4.h5')"
   ]
  },
  {
   "cell_type": "code",
   "execution_count": null,
   "metadata": {},
   "outputs": [],
   "source": []
  },
  {
   "cell_type": "raw",
   "metadata": {},
   "source": [
    "### https://github.com/linsamtw/cifar10_vgg16_kaggle"
   ]
  }
 ],
 "metadata": {
  "environment": {
   "name": "tf2-gpu.2-1.m46",
   "type": "gcloud",
   "uri": "gcr.io/deeplearning-platform-release/tf2-gpu.2-1:m46"
  },
  "kernelspec": {
   "display_name": "Python 3",
   "language": "python",
   "name": "python3"
  },
  "language_info": {
   "codemirror_mode": {
    "name": "ipython",
    "version": 3
   },
   "file_extension": ".py",
   "mimetype": "text/x-python",
   "name": "python",
   "nbconvert_exporter": "python",
   "pygments_lexer": "ipython3",
   "version": "3.7.6"
  }
 },
 "nbformat": 4,
 "nbformat_minor": 4
}
