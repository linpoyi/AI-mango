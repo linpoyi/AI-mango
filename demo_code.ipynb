{
 "cells": [
  {
   "cell_type": "code",
   "execution_count": 1,
   "metadata": {},
   "outputs": [],
   "source": [
    "# 設定超參數HyperParameters \n",
    "batch_size =  64\n",
    "epochs = 30\n",
    "image_size = 128\n",
    "lr=0.01"
   ]
  },
  {
   "cell_type": "markdown",
   "metadata": {},
   "source": [
    "## 一、載入相關套件"
   ]
  },
  {
   "cell_type": "code",
   "execution_count": 2,
   "metadata": {},
   "outputs": [],
   "source": [
    "import os\n",
    "import cv2\n",
    "import csv\n",
    "import random\n",
    "import time\n",
    "import numpy as np\n",
    "import pandas as pd\n",
    "import matplotlib.image as mpimg # mpimg 用於讀取圖片\n",
    "import matplotlib.pyplot as plt # plt 用於顯示圖片\n",
    "import seaborn as sns"
   ]
  },
  {
   "cell_type": "code",
   "execution_count": 3,
   "metadata": {},
   "outputs": [],
   "source": [
    "import tensorflow as tf\n",
    "\n",
    "from tensorflow.keras.applications import InceptionResNetV2\n",
    "from tensorflow.keras.preprocessing import image\n",
    "from tensorflow.keras.applications.inception_resnet_v2 import preprocess_input\n",
    "from tensorflow.keras import Model\n",
    "from tensorflow.keras.preprocessing.image import ImageDataGenerator, array_to_img, img_to_array, load_img\n",
    "from tensorflow.keras.utils import to_categorical\n",
    "from tensorflow.keras import utils as np_utils\n",
    "from tensorflow import keras\n",
    "from tensorflow.keras import optimizers\n",
    "from tensorflow.keras.layers import Input, Dropout, Flatten, Convolution2D, MaxPooling2D, ZeroPadding2D, Dense, Activation, Conv2DTranspose"
   ]
  },
  {
   "cell_type": "code",
   "execution_count": 4,
   "metadata": {},
   "outputs": [
    {
     "name": "stdout",
     "output_type": "stream",
     "text": [
      "1 Physical GPUs, 1 Logical GPUs\n"
     ]
    }
   ],
   "source": [
    "gpus = tf.config.experimental.list_physical_devices('GPU')\n",
    "if gpus:\n",
    "    try:\n",
    "        # Currently, memory growth needs to be the same across GPUs\n",
    "        for gpu in gpus:\n",
    "            tf.config.experimental.set_memory_growth(gpu, True)\n",
    "        tf.config.experimental.set_visible_devices(gpus[0], 'GPU')\n",
    "        logical_gpus = tf.config.experimental.list_logical_devices('GPU')\n",
    "        print(len(gpus), \"Physical GPUs,\", len(logical_gpus), \"Logical GPUs\")\n",
    "    except RuntimeError as e:\n",
    "        # Memory growth must be set before GPUs have been initialized\n",
    "        print(e)"
   ]
  },
  {
   "cell_type": "code",
   "execution_count": 5,
   "metadata": {},
   "outputs": [
    {
     "name": "stdout",
     "output_type": "stream",
     "text": [
      "Start Time 2020-06-15 23:04:23.521322+08:00\n"
     ]
    }
   ],
   "source": [
    "# Print Start time\n",
    "from datetime import datetime, timezone\n",
    "import pytz\n",
    "\n",
    "tpe = pytz.timezone('Asia/Taipei')\n",
    "utc_start = datetime.now()\n",
    "print(\"Start Time\", tpe.fromutc(utc_start))"
   ]
  },
  {
   "cell_type": "markdown",
   "metadata": {},
   "source": [
    "## 測試集預測準確度"
   ]
  },
  {
   "cell_type": "code",
   "execution_count": 6,
   "metadata": {},
   "outputs": [],
   "source": [
    "x_test = []\n",
    "y_test = []\n",
    "\n",
    "for i in range(1,61):\n",
    "    img = cv2.imread(\"Demo/\" + str(i)+\".jpg\" )\n",
    "    res = cv2.resize(img,(image_size,image_size),interpolation=cv2.INTER_LINEAR)\n",
    "    res = img_to_array(res)\n",
    "    x_test.append(res)    \n",
    "    # y_test.append(labels[i][1])"
   ]
  },
  {
   "cell_type": "code",
   "execution_count": 7,
   "metadata": {},
   "outputs": [],
   "source": [
    "#labels"
   ]
  },
  {
   "cell_type": "code",
   "execution_count": 8,
   "metadata": {},
   "outputs": [],
   "source": [
    "# y_test_org = y_test\n",
    "\n",
    "# 轉換至array的格式\n",
    "x_test = np.array(x_test)\n",
    "# y_test = np.array(y_test)"
   ]
  },
  {
   "cell_type": "raw",
   "metadata": {},
   "source": [
    "y_test"
   ]
  },
  {
   "cell_type": "code",
   "execution_count": 9,
   "metadata": {},
   "outputs": [],
   "source": [
    "# 轉換至float的格式\n",
    "for i in range(len(x_test)):\n",
    "    x_test[i] = x_test[i].astype('float32')\n",
    "# x_test = x_test/255"
   ]
  },
  {
   "cell_type": "code",
   "execution_count": 10,
   "metadata": {},
   "outputs": [],
   "source": [
    "# 標籤進行one-hotencoding\n",
    "#y_test = np_utils.to_categorical(y_test)"
   ]
  },
  {
   "cell_type": "code",
   "execution_count": null,
   "metadata": {},
   "outputs": [
    {
     "name": "stderr",
     "output_type": "stream",
     "text": [
      "Exception ignored in: <function TF_Output.<lambda> at 0x7f88f7dc3b00>\n",
      "Traceback (most recent call last):\n",
      "  File \"/opt/conda/lib/python3.7/site-packages/tensorflow_core/python/pywrap_tensorflow_internal.py\", line 1178, in <lambda>\n",
      "    __del__ = lambda self: None\n",
      "KeyboardInterrupt: \n"
     ]
    }
   ],
   "source": [
    "# 測試集標籤預測\n",
    "model = []\n",
    "y_pred = []\n",
    "\n",
    "model_count = 10\n",
    "'''\n",
    "model1 = tf.keras.models.load_model(\"1.h5\")\n",
    "print(\"done loading 1\")\n",
    "model2 = tf.keras.models.load_model(\"2.h5\")\n",
    "print(\"done loading 2\")\n",
    "model3 = tf.keras.models.load_model(\"3.h5\")\n",
    "print(\"done loading 3\")\n",
    "model4 = tf.keras.models.load_model(\"4.h5\")\n",
    "print(\"done loading 4\")\n",
    "y_pred1 = model1.predict(x_test)\n",
    "y_pred2 = model2.predict(x_test)\n",
    "y_pred3 = model3.predict(x_test)\n",
    "y_pred4 = model4.predict(x_test)\n",
    "#y_pred5 = model5.predict(x_test)\n",
    "'''\n",
    "for i in range(1, model_count+1):   #(1,model_count+1)\n",
    "    model_temp=tf.keras.models.load_model(\"flip_\"+str(i)+\".h5\")\n",
    "    model.append(model_temp)\n",
    "    print(\"model \"+str(i)+\" loaded\")\n",
    "for i in range(0,model_count):  #(0,model_count)\n",
    "    pred_temp = model[i].predict(x_test)\n",
    "    y_pred.append(pred_temp)"
   ]
  },
  {
   "cell_type": "raw",
   "metadata": {},
   "source": [
    "model"
   ]
  },
  {
   "cell_type": "code",
   "execution_count": null,
   "metadata": {},
   "outputs": [],
   "source": [
    "# 模型預測後的標籤\n",
    "'''\n",
    "predict_label1 = np.argmax(y_pred1,axis=1)\n",
    "predict_label2 = np.argmax(y_pred2,axis=1)\n",
    "predict_label3 = np.argmax(y_pred3,axis=1)\n",
    "predict_label4 = np.argmax(y_pred4,axis=1)\n",
    "#predict_label5 = np.argmax(y_pred5,axis=1)\n",
    "#predict_label = np.argmax(y_pred,axis=1)\n",
    "predict_label = np.round((predict_label1+predict_label2+predict_label3+predict_label4)/4,0)\n",
    "print(predict_label)\n",
    "# print(len(predict_label))\n",
    "'''\n",
    "predict_labels = []\n",
    "for i in range(0,model_count):\n",
    "    pred_label_temp=np.argmax(y_pred[i],axis=1)\n",
    "    predict_labels.append(pred_label_temp)\n",
    "\n",
    "avg_or_vote=1  #0是平均，1是投票\n",
    "\n",
    "if avg_or_vote==0:\n",
    "    predict_label = predict_labels[0]\n",
    "    for i in range(0,10):\n",
    "        predict_label+=predict_labels[i]\n",
    "    predict_label = np.round(predict_label/10,0)\n",
    "else:\n",
    "    predict_label=[]\n",
    "    for i in range(0,len(predict_labels[0])):\n",
    "        vote=[]\n",
    "        for j in range(0,len(predict_labels)):\n",
    "            vote.append(predict_labels[j][i])\n",
    "        counts=np.bincount(vote)\n",
    "        predict_label.append(np.argmax(counts))\n",
    "    predict_label=np.array(predict_label)"
   ]
  },
  {
   "cell_type": "code",
   "execution_count": null,
   "metadata": {},
   "outputs": [],
   "source": [
    "label_str = []\n",
    "for i in range(0, len(predict_label)): \n",
    "    label_str.append(str(predict_label[i]))"
   ]
  },
  {
   "cell_type": "code",
   "execution_count": null,
   "metadata": {},
   "outputs": [],
   "source": [
    "# make label_level csv\n",
    "\n",
    "for i in range(60):\n",
    "    label_str[i] = label_str[i].replace(\"0\",\"A\")\n",
    "    label_str[i] = label_str[i].replace(\"1\",\"B\")\n",
    "    label_str[i] = label_str[i].replace(\"2\",\"C\")\n",
    "    label_str[i] = label_str[i].replace(\"A\",\"1\")\n",
    "    label_str[i] = label_str[i].replace(\"B\",\"2\")\n",
    "    label_str[i] = label_str[i].replace(\"C\",\"3\")\n",
    "    \n",
    "with open('Team03_Demo.csv', 'w', newline='') as csvfile:\n",
    "  # 定義欄位\n",
    "  fieldnames = ['ImageID', 'PredictedLabel']\n",
    "\n",
    "  # 將 dictionary 寫入 CSV 檔\n",
    "  writer = csv.DictWriter(csvfile, fieldnames=fieldnames)\n",
    "\n",
    "  # 寫入第一列的欄位名稱\n",
    "  writer.writeheader()\n",
    "\n",
    "  # 寫入資料\n",
    "  for i in range(60):\n",
    "      writer.writerow({'ImageID': i+1,'PredictedLabel': label_str[i]})\n"
   ]
  },
  {
   "cell_type": "raw",
   "metadata": {},
   "source": [
    "### https://github.com/linsamtw/cifar10_vgg16_kaggle"
   ]
  }
 ],
 "metadata": {
  "environment": {
   "name": "tf2-gpu.2-1.m46",
   "type": "gcloud",
   "uri": "gcr.io/deeplearning-platform-release/tf2-gpu.2-1:m46"
  },
  "kernelspec": {
   "display_name": "Python 3",
   "language": "python",
   "name": "python3"
  },
  "language_info": {
   "codemirror_mode": {
    "name": "ipython",
    "version": 3
   },
   "file_extension": ".py",
   "mimetype": "text/x-python",
   "name": "python",
   "nbconvert_exporter": "python",
   "pygments_lexer": "ipython3",
   "version": "3.7.6"
  }
 },
 "nbformat": 4,
 "nbformat_minor": 4
}
